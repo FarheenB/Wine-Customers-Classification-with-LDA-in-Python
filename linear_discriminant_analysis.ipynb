{
 "cells": [
  {
   "cell_type": "markdown",
   "metadata": {
    "colab_type": "text",
    "id": "xJGl9TcT_skx"
   },
   "source": [
    "### Importing the libraries"
   ]
  },
  {
   "cell_type": "code",
   "execution_count": 1,
   "metadata": {
    "colab": {},
    "colab_type": "code",
    "id": "BNEgrGwd_29D"
   },
   "outputs": [],
   "source": [
    "import numpy as np\n",
    "import matplotlib.pyplot as plt\n",
    "import pandas as pd\n"
   ]
  },
  {
   "cell_type": "markdown",
   "metadata": {
    "colab_type": "text",
    "id": "Hyp1gza1_6qX"
   },
   "source": [
    "### Importing the dataset"
   ]
  },
  {
   "cell_type": "code",
   "execution_count": 2,
   "metadata": {
    "colab": {},
    "colab_type": "code",
    "id": "lPLTDBVI__ZQ"
   },
   "outputs": [],
   "source": [
    "dataset = pd.read_csv('Wine.csv')\n",
    "X = dataset.iloc[:, :-1].values\n",
    "y = dataset.iloc[:, -1].values"
   ]
  },
  {
   "cell_type": "code",
   "execution_count": 3,
   "metadata": {},
   "outputs": [
    {
     "data": {
      "text/html": [
       "<div>\n",
       "<style scoped>\n",
       "    .dataframe tbody tr th:only-of-type {\n",
       "        vertical-align: middle;\n",
       "    }\n",
       "\n",
       "    .dataframe tbody tr th {\n",
       "        vertical-align: top;\n",
       "    }\n",
       "\n",
       "    .dataframe thead th {\n",
       "        text-align: right;\n",
       "    }\n",
       "</style>\n",
       "<table border=\"1\" class=\"dataframe\">\n",
       "  <thead>\n",
       "    <tr style=\"text-align: right;\">\n",
       "      <th></th>\n",
       "      <th>Alcohol</th>\n",
       "      <th>Malic_Acid</th>\n",
       "      <th>Ash</th>\n",
       "      <th>Ash_Alcanity</th>\n",
       "      <th>Magnesium</th>\n",
       "      <th>Total_Phenols</th>\n",
       "      <th>Flavanoids</th>\n",
       "      <th>Nonflavanoid_Phenols</th>\n",
       "      <th>Proanthocyanins</th>\n",
       "      <th>Color_Intensity</th>\n",
       "      <th>Hue</th>\n",
       "      <th>OD280</th>\n",
       "      <th>Proline</th>\n",
       "      <th>Customer_Segment</th>\n",
       "    </tr>\n",
       "  </thead>\n",
       "  <tbody>\n",
       "    <tr>\n",
       "      <td>0</td>\n",
       "      <td>14.23</td>\n",
       "      <td>1.71</td>\n",
       "      <td>2.43</td>\n",
       "      <td>15.6</td>\n",
       "      <td>127</td>\n",
       "      <td>2.80</td>\n",
       "      <td>3.06</td>\n",
       "      <td>0.28</td>\n",
       "      <td>2.29</td>\n",
       "      <td>5.64</td>\n",
       "      <td>1.04</td>\n",
       "      <td>3.92</td>\n",
       "      <td>1065</td>\n",
       "      <td>1</td>\n",
       "    </tr>\n",
       "    <tr>\n",
       "      <td>1</td>\n",
       "      <td>13.20</td>\n",
       "      <td>1.78</td>\n",
       "      <td>2.14</td>\n",
       "      <td>11.2</td>\n",
       "      <td>100</td>\n",
       "      <td>2.65</td>\n",
       "      <td>2.76</td>\n",
       "      <td>0.26</td>\n",
       "      <td>1.28</td>\n",
       "      <td>4.38</td>\n",
       "      <td>1.05</td>\n",
       "      <td>3.40</td>\n",
       "      <td>1050</td>\n",
       "      <td>1</td>\n",
       "    </tr>\n",
       "    <tr>\n",
       "      <td>2</td>\n",
       "      <td>13.16</td>\n",
       "      <td>2.36</td>\n",
       "      <td>2.67</td>\n",
       "      <td>18.6</td>\n",
       "      <td>101</td>\n",
       "      <td>2.80</td>\n",
       "      <td>3.24</td>\n",
       "      <td>0.30</td>\n",
       "      <td>2.81</td>\n",
       "      <td>5.68</td>\n",
       "      <td>1.03</td>\n",
       "      <td>3.17</td>\n",
       "      <td>1185</td>\n",
       "      <td>1</td>\n",
       "    </tr>\n",
       "    <tr>\n",
       "      <td>3</td>\n",
       "      <td>14.37</td>\n",
       "      <td>1.95</td>\n",
       "      <td>2.50</td>\n",
       "      <td>16.8</td>\n",
       "      <td>113</td>\n",
       "      <td>3.85</td>\n",
       "      <td>3.49</td>\n",
       "      <td>0.24</td>\n",
       "      <td>2.18</td>\n",
       "      <td>7.80</td>\n",
       "      <td>0.86</td>\n",
       "      <td>3.45</td>\n",
       "      <td>1480</td>\n",
       "      <td>1</td>\n",
       "    </tr>\n",
       "    <tr>\n",
       "      <td>4</td>\n",
       "      <td>13.24</td>\n",
       "      <td>2.59</td>\n",
       "      <td>2.87</td>\n",
       "      <td>21.0</td>\n",
       "      <td>118</td>\n",
       "      <td>2.80</td>\n",
       "      <td>2.69</td>\n",
       "      <td>0.39</td>\n",
       "      <td>1.82</td>\n",
       "      <td>4.32</td>\n",
       "      <td>1.04</td>\n",
       "      <td>2.93</td>\n",
       "      <td>735</td>\n",
       "      <td>1</td>\n",
       "    </tr>\n",
       "  </tbody>\n",
       "</table>\n",
       "</div>"
      ],
      "text/plain": [
       "   Alcohol  Malic_Acid   Ash  Ash_Alcanity  Magnesium  Total_Phenols  \\\n",
       "0    14.23        1.71  2.43          15.6        127           2.80   \n",
       "1    13.20        1.78  2.14          11.2        100           2.65   \n",
       "2    13.16        2.36  2.67          18.6        101           2.80   \n",
       "3    14.37        1.95  2.50          16.8        113           3.85   \n",
       "4    13.24        2.59  2.87          21.0        118           2.80   \n",
       "\n",
       "   Flavanoids  Nonflavanoid_Phenols  Proanthocyanins  Color_Intensity   Hue  \\\n",
       "0        3.06                  0.28             2.29             5.64  1.04   \n",
       "1        2.76                  0.26             1.28             4.38  1.05   \n",
       "2        3.24                  0.30             2.81             5.68  1.03   \n",
       "3        3.49                  0.24             2.18             7.80  0.86   \n",
       "4        2.69                  0.39             1.82             4.32  1.04   \n",
       "\n",
       "   OD280  Proline  Customer_Segment  \n",
       "0   3.92     1065                 1  \n",
       "1   3.40     1050                 1  \n",
       "2   3.17     1185                 1  \n",
       "3   3.45     1480                 1  \n",
       "4   2.93      735                 1  "
      ]
     },
     "execution_count": 3,
     "metadata": {},
     "output_type": "execute_result"
    }
   ],
   "source": [
    "dataset.head()"
   ]
  },
  {
   "cell_type": "markdown",
   "metadata": {
    "colab_type": "text",
    "id": "1wrHODfJAEiI"
   },
   "source": [
    "### Feature Scaling"
   ]
  },
  {
   "cell_type": "code",
   "execution_count": 4,
   "metadata": {},
   "outputs": [
    {
     "name": "stdout",
     "output_type": "stream",
     "text": [
      "[[1.423e+01 1.710e+00 2.430e+00 ... 1.040e+00 3.920e+00 1.065e+03]\n",
      " [1.320e+01 1.780e+00 2.140e+00 ... 1.050e+00 3.400e+00 1.050e+03]\n",
      " [1.316e+01 2.360e+00 2.670e+00 ... 1.030e+00 3.170e+00 1.185e+03]\n",
      " ...\n",
      " [1.327e+01 4.280e+00 2.260e+00 ... 5.900e-01 1.560e+00 8.350e+02]\n",
      " [1.317e+01 2.590e+00 2.370e+00 ... 6.000e-01 1.620e+00 8.400e+02]\n",
      " [1.413e+01 4.100e+00 2.740e+00 ... 6.100e-01 1.600e+00 5.600e+02]]\n"
     ]
    }
   ],
   "source": [
    "#before scaling\n",
    "print(X)"
   ]
  },
  {
   "cell_type": "code",
   "execution_count": 5,
   "metadata": {
    "colab": {},
    "colab_type": "code",
    "id": "W-UCD7ezAJG2"
   },
   "outputs": [],
   "source": [
    "from sklearn.preprocessing import StandardScaler\n",
    "sc = StandardScaler()\n",
    "X = sc.fit_transform(X)"
   ]
  },
  {
   "cell_type": "code",
   "execution_count": 6,
   "metadata": {},
   "outputs": [
    {
     "name": "stdout",
     "output_type": "stream",
     "text": [
      "[[ 1.51861254 -0.5622498   0.23205254 ...  0.36217728  1.84791957\n",
      "   1.01300893]\n",
      " [ 0.24628963 -0.49941338 -0.82799632 ...  0.40605066  1.1134493\n",
      "   0.96524152]\n",
      " [ 0.19687903  0.02123125  1.10933436 ...  0.31830389  0.78858745\n",
      "   1.39514818]\n",
      " ...\n",
      " [ 0.33275817  1.74474449 -0.38935541 ... -1.61212515 -1.48544548\n",
      "   0.28057537]\n",
      " [ 0.20923168  0.22769377  0.01273209 ... -1.56825176 -1.40069891\n",
      "   0.29649784]\n",
      " [ 1.39508604  1.58316512  1.36520822 ... -1.52437837 -1.42894777\n",
      "  -0.59516041]]\n"
     ]
    }
   ],
   "source": [
    "#after scaling\n",
    "print(X)"
   ]
  },
  {
   "cell_type": "markdown",
   "metadata": {
    "colab_type": "text",
    "id": "3bUhSHktAcOe"
   },
   "source": [
    "### Splitting the dataset into the Training set and Test set"
   ]
  },
  {
   "cell_type": "code",
   "execution_count": 7,
   "metadata": {
    "colab": {},
    "colab_type": "code",
    "id": "L7hGLt1qAced"
   },
   "outputs": [],
   "source": [
    "from sklearn.model_selection import train_test_split\n",
    "X_train, X_test, y_train, y_test = train_test_split(X, y, test_size = 0.2, random_state = 0)"
   ]
  },
  {
   "cell_type": "code",
   "execution_count": 8,
   "metadata": {},
   "outputs": [
    {
     "name": "stdout",
     "output_type": "stream",
     "text": [
      "[[ 0.85156946  0.82912808  0.63414004 ...  0.01119018 -1.11821035\n",
      "  -0.21302116]\n",
      " [-0.38369551 -0.72382916 -0.38935541 ...  0.01119018 -0.77922407\n",
      "  -0.8021525 ]\n",
      " [-1.70542902 -0.31090412 -0.3162486  ...  0.88865792  0.49197446\n",
      "  -1.27982657]\n",
      " ...\n",
      " [-0.71721705 -0.65201611 -0.64522928 ...  0.44992405  0.49197446\n",
      "  -1.27982657]\n",
      " [ 1.1109751  -0.58917969 -0.90110314 ... -0.20817676  1.01457831\n",
      "   0.75824943]\n",
      " [ 1.43214399  0.15588072  0.41481959 ... -1.48050498 -1.27357906\n",
      "  -0.27671104]]\n"
     ]
    }
   ],
   "source": [
    "print(X_train)"
   ]
  },
  {
   "cell_type": "code",
   "execution_count": 9,
   "metadata": {},
   "outputs": [
    {
     "name": "stdout",
     "output_type": "stream",
     "text": [
      "[[ 9.13332708e-01 -5.98156324e-01 -4.25908823e-01 -9.29365181e-01\n",
      "   1.28198515e+00  4.88531085e-01  8.74184283e-01 -1.22360954e+00\n",
      "   5.09876168e-02  3.42556546e-01 -1.64303370e-01  8.30960739e-01\n",
      "   9.97086458e-01]\n",
      " [-2.60169009e-01  2.99506821e-01  4.14819587e-01  7.52230776e-01\n",
      "   8.60705108e-01 -1.30608025e+00 -6.71924470e-01 -9.81875357e-01\n",
      "  -5.79762670e-01  2.48377796e+00 -2.09473241e+00 -1.61256533e+00\n",
      "  -8.49919910e-01]\n",
      " [-7.78980294e-01 -1.08289442e+00 -7.54889505e-01 -1.48624201e-01\n",
      "  -8.94628408e-01  1.93062948e+00  1.07497763e+00 -1.38476566e+00\n",
      "   4.89008649e-01 -2.63041430e-01  1.15189824e+00  3.64854610e-01\n",
      "  -1.04098953e+00]\n",
      " [ 6.90985014e-01 -5.44296535e-01  3.41712768e-01  3.01803287e-01\n",
      "   1.14155847e+00  1.06537044e+00  7.53708276e-01 -1.30418760e+00\n",
      "   1.50521744e+00  5.15584539e-01  9.89369528e-02  5.90845461e-01\n",
      "   1.18815608e+00]\n",
      " [ 6.09998823e-02  3.10919247e+00 -8.64549732e-01  6.02088279e-01\n",
      "  -9.64841748e-01  5.20577716e-01  6.23192602e-01 -4.98406993e-01\n",
      "   7.34300428e-01 -1.06329590e+00 -9.97897726e-01  6.89716458e-01\n",
      "  -1.16836928e+00]\n",
      " [-1.77954492e+00 -2.57044329e-01  3.15632527e+00  2.70408323e+00\n",
      "   1.35219849e+00  1.41788338e+00  3.06283174e+00  8.71420038e-01\n",
      "   4.89008649e-01  4.07442044e-01 -1.20429983e-01  1.52305772e+00\n",
      "  -8.97687316e-01]\n",
      " [ 1.30861750e+00 -1.67278014e-01  8.90013905e-01 -5.69023190e-01\n",
      "   1.49262517e+00  4.88531085e-01  4.82637261e-01 -4.17828932e-01\n",
      "  -5.97283511e-01 -3.49944013e-03  4.49924050e-01  1.36768901e+00\n",
      "   1.74544249e+00]\n",
      " [-7.91332944e-01  1.34079607e+00  4.92854954e-02  4.51945783e-01\n",
      "  -8.24415067e-01  7.83162049e-03 -1.11366983e+00  1.11315422e+00\n",
      "  -9.65221179e-01  1.12118252e+00 -1.74374531e+00 -1.45719662e+00\n",
      "  -7.22540161e-01]\n",
      " [-9.27212090e-01 -5.44296535e-01 -9.01103141e-01 -1.48624201e-01\n",
      "  -1.38612179e+00 -1.03368389e+00  7.33234123e-04  6.56394314e-02\n",
      "   6.85084581e-02 -7.17239912e-01  1.86683727e-01  7.88587455e-01\n",
      "  -7.54385098e-01]\n",
      " [-1.13720713e+00 -4.54530221e-01 -1.70034959e-01 -2.98766697e-01\n",
      "  -1.31590845e+00 -1.11380046e+00 -5.31369129e-01  1.27431034e+00\n",
      "   8.60292994e-02 -1.14980989e+00  5.37670824e-01 -4.82611079e-01\n",
      "  -8.49919910e-01]\n",
      " [ 4.43932021e-01  2.00763875e-01 -6.03747319e-02  1.51660791e-01\n",
      "  -7.54201726e-01 -1.43426677e+00 -1.53533585e+00  6.56394314e-02\n",
      "  -1.66605483e+00  2.34414051e-01 -1.12951789e+00 -2.00122516e-01\n",
      "   1.05428211e-01]\n",
      " [ 1.08626980e+00  2.42696848e+00 -4.99015641e-01  1.51660791e-01\n",
      "  -1.38612179e+00 -2.10724602e+00 -1.69597053e+00  3.07373613e-01\n",
      "  -1.59597147e+00 -6.83849376e-02 -1.65599853e+00 -1.81030733e+00\n",
      "  -1.05691200e+00]\n",
      " [ 1.48155459e+00 -5.17366641e-01  3.05159359e-01 -1.28970717e+00\n",
      "   8.60705108e-01  1.56209322e+00  1.36612798e+00 -1.76094750e-01\n",
      "   6.64217062e-01  7.31869531e-01  4.06050663e-01  3.36605754e-01\n",
      "   2.23903902e+00]\n",
      " [-7.78980294e-01 -1.13675421e+00 -9.74209960e-01 -2.98766697e-01\n",
      "  -8.24415067e-01  1.96267611e+00  1.72755600e+00 -9.81875357e-01\n",
      "   6.29175380e-01 -2.41412931e-01  3.62177276e-01  2.23610329e-01\n",
      "  -2.76711037e-01]\n",
      " [ 7.15690314e-01  2.18717138e-01  1.18244118e+00  1.50294326e+00\n",
      "   3.69211724e-01 -1.19391704e+00 -1.19398717e+00  2.26795553e-01\n",
      "  -8.91791136e-02  1.55807820e+00 -9.54024339e-01 -1.14645920e+00\n",
      "   9.89339909e-03]\n",
      " [-1.23602833e+00 -1.27140368e+00 -1.33974405e+00 -1.48624201e-01\n",
      "  -9.64841748e-01  2.00111406e-01  2.31645580e-01 -4.98406993e-01\n",
      "  -2.81908368e-01 -1.10655290e+00  1.85387244e+00  7.17965314e-01\n",
      "  -1.49318765e+00]\n",
      " [ 9.38038007e-01 -7.23829165e-01  1.21899459e+00  1.51829490e-03\n",
      "   2.26497192e+00  1.04934713e+00  7.13549607e-01  1.11315422e+00\n",
      "  -4.22075098e-01  1.47900054e-01  1.28351841e+00  5.48472176e-01\n",
      "   1.55437286e+00]\n",
      " [ 1.46920194e+00 -6.69969376e-01  4.14819587e-01 -8.99336682e-01\n",
      "   5.79851746e-01  1.61016317e+00  1.90827001e+00 -3.37250872e-01\n",
      "   4.71487808e-01  1.57538100e+00  1.19577163e+00  2.94232470e-01\n",
      "   2.97147258e+00]\n",
      " [-4.45458753e-01 -8.76431899e-01 -1.26663723e+00 -8.09251184e-01\n",
      "   1.81450206e-02 -4.40821213e-01 -6.21726134e-01  1.35488840e+00\n",
      "  -1.70109651e+00  2.99299548e-01  9.89369528e-02 -1.44307219e+00\n",
      "  -9.45454722e-01]\n",
      " [ 1.02450655e+00 -6.16109587e-01  8.53460496e-01 -6.89137187e-01\n",
      "  -4.03135023e-01  2.48181353e-01  9.64541288e-01 -1.14303148e+00\n",
      "   1.22488398e+00  2.34414051e-01  1.23964502e+00  1.07107602e+00\n",
      "   1.64990767e+00]\n",
      " [ 1.35115780e-01 -1.19061400e+00 -2.43634632e+00 -1.34976417e+00\n",
      "  -1.52654847e+00  1.09741707e+00  1.15529496e+00 -8.20719236e-01\n",
      "   1.20736314e+00  1.04643056e-01  7.13164373e-01  8.02711883e-01\n",
      "  -7.79861048e-01]\n",
      " [ 6.09998823e-02 -6.16109587e-01  6.70693450e-01 -4.48909194e-01\n",
      "  -1.22281661e-01  2.48181353e-01  4.02319923e-01 -5.78985054e-01\n",
      "  -2.64387527e-01 -3.49555426e-01  7.13164373e-01 -1.43624803e-01\n",
      "   1.14038868e+00]\n",
      " [ 2.95700226e-01  2.27693770e-01  1.84040254e+00  4.51945783e-01\n",
      "   1.28198515e+00  8.08997395e-01  6.63351271e-01  2.26795553e-01\n",
      "   4.01404443e-01 -3.19275528e-01  3.62177276e-01  4.49601179e-01\n",
      "  -3.78740070e-02]\n",
      " [-6.06043199e-01 -5.44296535e-01 -1.41285087e+00  3.01803287e-01\n",
      "  -1.03505509e+00 -1.52401534e-01 -1.09703105e-01 -3.37250872e-01\n",
      "  -1.94304161e-01 -9.16222104e-01  3.62177276e-01  1.35356458e+00\n",
      "  -2.38497113e-01]\n",
      " [-8.28390893e-01 -1.10982432e+00 -3.16248596e-01 -1.04947918e+00\n",
      "   8.83583612e-02 -3.92751267e-01 -9.42995485e-01  2.16066901e+00\n",
      "  -2.06903418e+00 -7.73474010e-01  1.28351841e+00 -1.33007677e+00\n",
      "  -2.13021163e-01]\n",
      " [-5.93690549e-01  8.40676665e-02 -7.18336096e-01  4.51945783e-01\n",
      "  -8.24415067e-01  4.08414508e-01  2.41685247e-01 -8.20719236e-01\n",
      "  -6.49846035e-01 -1.32283789e+00 -2.52050144e-01  2.37734757e-01\n",
      "  -1.34351644e+00]\n",
      " [-7.04864396e-01 -7.23829165e-01 -2.79695187e-01  6.02088279e-01\n",
      "  -9.64841748e-01  7.12857502e-01  1.12517596e+00  2.26795553e-01\n",
      "   3.13800236e-01 -4.83652121e-01 -1.17339127e+00  3.22481326e-01\n",
      "  -1.25753511e+00]\n",
      " [-1.03838594e+00 -6.52016113e-01 -2.06588368e-01  9.92458769e-01\n",
      "  -6.83988386e-01 -8.25380785e-01 -3.40615451e-01  5.49107795e-01\n",
      "  -5.41374310e-02 -1.12818140e+00  1.63450550e+00 -4.96735507e-01\n",
      "  -8.02152504e-01]\n",
      " [-1.53249192e+00  3.08483453e-01  2.02316959e+00  1.51660791e-01\n",
      "   2.28785042e-01 -8.73450731e-01  7.33234123e-04  1.91893483e+00\n",
      "  -9.47700337e-01 -5.44211919e-01  1.19577163e+00 -1.57749231e-01\n",
      "  -4.45489206e-01]\n",
      " [ 9.62743307e-01  3.80296505e-01 -2.43141777e-01  7.52230776e-01\n",
      "  -6.83988386e-01 -1.51438335e+00 -1.35462184e+00  3.87951674e-01\n",
      "  -9.82742020e-01  1.95604258e+00 -1.12951789e+00 -1.31595234e+00\n",
      "  -4.20013256e-01]\n",
      " [ 4.80989970e-01 -5.08390010e-01  9.26567314e-01 -1.01945068e+00\n",
      "  -4.73348364e-01  8.89113972e-01  9.14342951e-01 -1.76094750e-01\n",
      "  -2.46866685e-01 -1.11641936e-01 -1.64303370e-01  8.59209596e-01\n",
      "   1.42699311e+00]\n",
      " [ 1.50625989e+00 -5.71226430e-01 -2.43141777e-01 -9.59393680e-01\n",
      "   1.28198515e+00  1.44993001e+00  9.74580955e-01 -8.20719236e-01\n",
      "   7.69342110e-01  5.71818637e-01 -7.65565958e-02  9.86329449e-01\n",
      "   7.10482022e-01]\n",
      " [-1.18661773e+00  1.76269775e+00  4.92854954e-02  7.52230776e-01\n",
      "  -1.38612179e+00 -3.12634689e-01 -2.80377448e-01  4.68529735e-01\n",
      "  -4.22075098e-01 -1.06329590e+00 -7.34657403e-01 -5.88782342e-02\n",
      "  -5.31470536e-01]\n",
      " [ 1.49390724e+00  1.52930533e+00  2.68605950e-01 -1.78652700e-01\n",
      "   7.90491768e-01  8.89113972e-01  6.23192602e-01 -4.98406993e-01\n",
      "  -5.97283511e-01  7.86888566e-02 -3.83670306e-01  1.01457831e+00\n",
      "   1.06077633e+00]\n",
      " [ 2.25977152e+00 -6.25086219e-01 -7.18336096e-01 -1.65004916e+00\n",
      "  -1.92495001e-01  8.08997395e-01  9.54501620e-01 -5.78985054e-01\n",
      "   6.81737904e-01  6.13860573e-02  5.37670824e-01  3.36605754e-01\n",
      "   9.49319052e-01]\n",
      " [ 6.09998823e-02 -5.08390010e-01 -9.74209960e-01 -7.49194186e-01\n",
      "   5.09638405e-01  1.12946370e+00  9.74580955e-01 -6.59563114e-01\n",
      "   7.69342110e-01 -7.82513996e-03 -3.39796919e-01  1.04282716e+00\n",
      "   4.39800054e-01]]\n"
     ]
    }
   ],
   "source": [
    "print(X_test)"
   ]
  },
  {
   "cell_type": "markdown",
   "metadata": {
    "colab_type": "text",
    "id": "S3i3lRiwASAX"
   },
   "source": [
    "### Applying LDA"
   ]
  },
  {
   "cell_type": "code",
   "execution_count": 10,
   "metadata": {},
   "outputs": [
    {
     "name": "stdout",
     "output_type": "stream",
     "text": [
      "[0.73931691 0.26068309]\n"
     ]
    }
   ],
   "source": [
    "#get the variances of all the features\n",
    "\n",
    "from sklearn.discriminant_analysis import LinearDiscriminantAnalysis as LDA\n",
    "lda = LDA(n_components = None)\n",
    "X_train = lda.fit_transform(X_train, y_train)\n",
    "X_test = lda.transform(X_test)\n",
    "explained_variance = lda.explained_variance_ratio_\n",
    "print(explained_variance)"
   ]
  },
  {
   "cell_type": "code",
   "execution_count": 11,
   "metadata": {},
   "outputs": [
    {
     "name": "stdout",
     "output_type": "stream",
     "text": [
      "[0.73931691 0.26068309]\n"
     ]
    }
   ],
   "source": [
    "#plotting 2D relation here thus choosing top 2 lda\n",
    "\n",
    "from sklearn.discriminant_analysis import LinearDiscriminantAnalysis as LDA\n",
    "lda = LDA(n_components = 2)\n",
    "X_train = lda.fit_transform(X_train, y_train)\n",
    "X_test = lda.transform(X_test)\n",
    "explained_variance = lda.explained_variance_ratio_\n",
    "print(explained_variance)"
   ]
  },
  {
   "cell_type": "code",
   "execution_count": 12,
   "metadata": {},
   "outputs": [
    {
     "name": "stdout",
     "output_type": "stream",
     "text": [
      "[[ 3.57315552  1.94018924]\n",
      " [ 0.85475898 -2.08182977]\n",
      " [ 0.62173655 -3.06234453]\n",
      " [ 4.80786412  2.00638739]\n",
      " [-3.8579759   0.14987256]\n",
      " [-3.59455458  1.24961706]\n",
      " [-0.53772906 -3.0852704 ]\n",
      " [ 0.04058577 -2.47312446]\n",
      " [ 0.99835348 -3.36989668]\n",
      " [-3.74095658  1.94844242]\n",
      " [ 3.76035226  0.82126218]\n",
      " [-0.15106412 -1.86820292]\n",
      " [ 3.62762899  2.05460026]\n",
      " [-3.94229781  2.80328429]\n",
      " [ 3.33429017  0.73627798]\n",
      " [ 3.90206871  1.03276135]\n",
      " [-3.55835472  0.18783108]\n",
      " [ 5.63175281  2.40524214]\n",
      " [-5.56217254  0.85694946]\n",
      " [ 0.23296188 -3.94615581]\n",
      " [ 5.03141997  3.23313754]\n",
      " [ 3.52861651  0.94605778]\n",
      " [-1.17815662 -2.17294825]\n",
      " [ 3.58320131  0.67947364]\n",
      " [ 5.21649905  2.41090952]\n",
      " [-3.01647841  1.24411621]\n",
      " [ 1.86178658 -0.47484926]\n",
      " [ 3.93816398 -0.2204059 ]\n",
      " [-1.0836235  -3.32496762]\n",
      " [ 1.8691488  -0.63362283]\n",
      " [ 3.27717205  1.51263542]\n",
      " [-0.47842302 -1.16766723]\n",
      " [-4.14433134  1.37391708]\n",
      " [ 2.45009727 -2.49336285]\n",
      " [-1.20844631 -2.30679956]\n",
      " [ 2.55631466 -0.98550214]\n",
      " [-1.6091476   0.55066705]\n",
      " [-5.52462148  2.19178828]\n",
      " [-2.44685583 -2.28937848]\n",
      " [-1.95474568 -2.02963924]\n",
      " [ 5.54394234  1.5236766 ]\n",
      " [ 5.74409562  1.85156779]\n",
      " [ 1.13553056 -3.93865462]\n",
      " [-1.2483554  -3.08106324]\n",
      " [-0.00961488 -3.62708415]\n",
      " [ 5.21418108  2.66981962]\n",
      " [ 4.2290474   0.3886969 ]\n",
      " [-3.94237521  0.76214343]\n",
      " [ 5.30822458  2.18894363]\n",
      " [-0.20862902 -3.05785486]\n",
      " [ 0.47295413 -2.560251  ]\n",
      " [ 0.46692465 -1.86886738]\n",
      " [-1.05818513 -2.61576658]\n",
      " [ 0.33551985 -3.26643922]\n",
      " [-4.74777848  2.23081211]\n",
      " [-2.80968166  1.32816126]\n",
      " [-1.02804047 -2.60107642]\n",
      " [-6.15432728  2.12945198]\n",
      " [ 4.33944259  1.23494233]\n",
      " [-3.63172128  0.54074799]\n",
      " [ 4.79575236  1.25996976]\n",
      " [-4.13914056  0.36020476]\n",
      " [-3.94468876  3.0153646 ]\n",
      " [-0.42472714 -2.30200526]\n",
      " [-5.17777666  2.36899585]\n",
      " [-1.3044572  -2.87041347]\n",
      " [ 0.06991014 -2.78082083]\n",
      " [-4.98245326  3.83183665]\n",
      " [ 4.3064623   2.4129711 ]\n",
      " [ 0.29208614 -2.06937039]\n",
      " [-5.0934408   3.0899463 ]\n",
      " [ 0.61101399  0.17866792]\n",
      " [ 1.12081287 -2.87291369]\n",
      " [-0.77339273 -2.03777551]\n",
      " [ 2.57603424  0.08537633]\n",
      " [-4.29104423  2.28661799]\n",
      " [ 5.255722    0.61832811]\n",
      " [ 5.7318737   0.19267558]\n",
      " [-6.24884704  3.55128212]\n",
      " [-5.38587866  1.77559442]\n",
      " [ 1.31025756 -2.52845345]\n",
      " [ 5.00526015  2.31115606]\n",
      " [-4.31499585  1.99154644]\n",
      " [-3.92894005  2.13127776]\n",
      " [-0.05838671 -2.60549973]\n",
      " [-0.42566332 -1.68426706]\n",
      " [-3.5253992   0.16028802]\n",
      " [-4.42913323  2.47869828]\n",
      " [-2.85063973  1.1163819 ]\n",
      " [ 4.46460374  3.55045935]\n",
      " [-1.21751159 -1.31441447]\n",
      " [-4.94290391  1.29321013]\n",
      " [-1.70880192 -2.10638157]\n",
      " [ 3.42314438  1.21989584]\n",
      " [-5.58393165  2.49598525]\n",
      " [-0.71859407 -2.67293812]\n",
      " [ 4.01611408  0.13560479]\n",
      " [ 4.64009352 -0.06178578]\n",
      " [-3.85066489  1.66509736]\n",
      " [-3.47123425 -0.07349273]\n",
      " [ 4.17391188  0.51767626]\n",
      " [-4.09941682  3.11353194]\n",
      " [ 4.29592104  0.18486038]\n",
      " [-0.15570245 -3.78905263]\n",
      " [-3.29789207  1.48134709]\n",
      " [-4.0655232   1.02548943]\n",
      " [-0.63468603 -2.68007872]\n",
      " [-4.4641561   2.38128912]\n",
      " [ 4.52246935  1.96313747]\n",
      " [ 0.79712615 -3.04743012]\n",
      " [ 4.91056287  1.22473167]\n",
      " [-3.77150311  0.30882908]\n",
      " [ 3.5444653   1.05962644]\n",
      " [ 4.36398757  1.78816415]\n",
      " [ 4.86008035  2.32823762]\n",
      " [-3.46481941  1.07890379]\n",
      " [-1.65664035 -3.72251678]\n",
      " [ 0.26593072 -2.87995582]\n",
      " [-0.66345544 -2.36083579]\n",
      " [-0.33965319 -5.76922451]\n",
      " [ 5.14221842  1.93740967]\n",
      " [ 5.75746454  2.94776345]\n",
      " [ 0.42253477 -1.5887479 ]\n",
      " [ 0.96267148 -1.57482982]\n",
      " [-2.5640305   0.20647539]\n",
      " [-2.30398129 -1.49865287]\n",
      " [ 4.91741587  2.32620455]\n",
      " [ 5.20879938  2.96660159]\n",
      " [-3.60895143  2.468315  ]\n",
      " [-4.58647662  2.42583146]\n",
      " [ 2.89493473  1.15627605]\n",
      " [-0.09551518 -1.90444969]\n",
      " [ 1.30043304 -0.87538895]\n",
      " [ 0.16805348 -3.21257614]\n",
      " [-3.19016989  1.66680508]\n",
      " [-2.08858151  0.83647089]\n",
      " [-4.25960623  1.54637835]\n",
      " [ 1.68647094 -3.83427605]\n",
      " [-0.9020576  -2.62989337]\n",
      " [-0.19105618 -3.66017053]\n",
      " [-4.20632725  0.8310719 ]\n",
      " [ 4.52910794  3.07839306]]\n"
     ]
    }
   ],
   "source": [
    "#2 features in X_train\n",
    "print(X_train)"
   ]
  },
  {
   "cell_type": "code",
   "execution_count": 13,
   "metadata": {},
   "outputs": [
    {
     "name": "stdout",
     "output_type": "stream",
     "text": [
      "[[-3.83960313  1.54567265]\n",
      " [ 5.24601727  1.72358501]\n",
      " [-0.66064228 -3.32231072]\n",
      " [-2.16667061  1.0147427 ]\n",
      " [-0.16079996 -1.27171643]\n",
      " [-5.31374258 -2.22014536]\n",
      " [-4.78386714  3.11508054]\n",
      " [ 5.55863966  0.88556084]\n",
      " [-1.29772139 -2.40714074]\n",
      " [ 0.53068371 -2.37759837]\n",
      " [ 2.36900593  1.81859204]\n",
      " [ 5.14502202  1.88061526]\n",
      " [-5.27947032  3.32510044]\n",
      " [-2.70452577 -2.61522323]\n",
      " [ 4.32314426  2.14569837]\n",
      " [-0.65835601 -4.67751669]\n",
      " [-4.07332713  1.95266123]\n",
      " [-6.55291385  4.01098911]\n",
      " [ 2.40020179 -1.14618328]\n",
      " [-5.14219986  2.02120623]\n",
      " [-2.46475469 -2.81225673]\n",
      " [-2.5190649   1.07965428]\n",
      " [-1.79798575  0.47987658]\n",
      " [-1.43423986 -2.41298601]\n",
      " [ 1.11433225 -0.98310413]\n",
      " [ 0.28604133 -2.81262488]\n",
      " [-1.21198193 -2.73115246]\n",
      " [ 0.84900431 -3.34996047]\n",
      " [-1.03105294 -0.53029203]\n",
      " [ 4.83489722  2.08108766]\n",
      " [-4.75464421  2.30157612]\n",
      " [-3.33786142  1.51860576]\n",
      " [ 1.02045007 -1.04261267]\n",
      " [-3.1347464   2.97819832]\n",
      " [-4.25385909  1.84683986]\n",
      " [-3.16058359 -0.39860037]]\n"
     ]
    }
   ],
   "source": [
    "#2 features in X_test\n",
    "\n",
    "print(X_test)"
   ]
  },
  {
   "cell_type": "markdown",
   "metadata": {
    "colab_type": "text",
    "id": "UBx16JVLAuel"
   },
   "source": [
    "### Training the Logistic Regression model on the Training set"
   ]
  },
  {
   "cell_type": "code",
   "execution_count": 14,
   "metadata": {
    "colab": {
     "base_uri": "https://localhost:8080/",
     "height": 101
    },
    "colab_type": "code",
    "executionInfo": {
     "elapsed": 1654,
     "status": "ok",
     "timestamp": 1586437771194,
     "user": {
      "displayName": "Hadelin de Ponteves",
      "photoUrl": "https://lh3.googleusercontent.com/a-/AOh14GhEuXdT7eQweUmRPW8_laJuPggSK6hfvpl5a6WBaA=s64",
      "userId": "15047218817161520419"
     },
     "user_tz": -240
    },
    "id": "XDQahsqTAy44",
    "outputId": "b560f4c3-e60d-42cd-ded7-49110a680b92"
   },
   "outputs": [
    {
     "name": "stderr",
     "output_type": "stream",
     "text": [
      "C:\\ProgramData\\Anaconda3\\lib\\site-packages\\sklearn\\linear_model\\logistic.py:432: FutureWarning: Default solver will be changed to 'lbfgs' in 0.22. Specify a solver to silence this warning.\n",
      "  FutureWarning)\n",
      "C:\\ProgramData\\Anaconda3\\lib\\site-packages\\sklearn\\linear_model\\logistic.py:469: FutureWarning: Default multi_class will be changed to 'auto' in 0.22. Specify the multi_class option to silence this warning.\n",
      "  \"this warning.\", FutureWarning)\n"
     ]
    },
    {
     "data": {
      "text/plain": [
       "LogisticRegression(C=1.0, class_weight=None, dual=False, fit_intercept=True,\n",
       "                   intercept_scaling=1, l1_ratio=None, max_iter=100,\n",
       "                   multi_class='warn', n_jobs=None, penalty='l2',\n",
       "                   random_state=0, solver='warn', tol=0.0001, verbose=0,\n",
       "                   warm_start=False)"
      ]
     },
     "execution_count": 14,
     "metadata": {},
     "output_type": "execute_result"
    }
   ],
   "source": [
    "from sklearn.linear_model import LogisticRegression\n",
    "classifier = LogisticRegression(random_state = 0)\n",
    "classifier.fit(X_train, y_train)"
   ]
  },
  {
   "cell_type": "markdown",
   "metadata": {
    "colab_type": "text",
    "id": "37ouVXGHBGAg"
   },
   "source": [
    "### Predicting the Test set results"
   ]
  },
  {
   "cell_type": "code",
   "execution_count": 15,
   "metadata": {
    "colab": {},
    "colab_type": "code",
    "id": "8uUGyVCTBMHz"
   },
   "outputs": [],
   "source": [
    "y_pred = classifier.predict(X_test)"
   ]
  },
  {
   "cell_type": "markdown",
   "metadata": {
    "colab_type": "text",
    "id": "MTck416XBPnD"
   },
   "source": [
    "### Making the Confusion Matrix"
   ]
  },
  {
   "cell_type": "code",
   "execution_count": 16,
   "metadata": {
    "colab": {
     "base_uri": "https://localhost:8080/",
     "height": 67
    },
    "colab_type": "code",
    "executionInfo": {
     "elapsed": 1642,
     "status": "ok",
     "timestamp": 1586437771196,
     "user": {
      "displayName": "Hadelin de Ponteves",
      "photoUrl": "https://lh3.googleusercontent.com/a-/AOh14GhEuXdT7eQweUmRPW8_laJuPggSK6hfvpl5a6WBaA=s64",
      "userId": "15047218817161520419"
     },
     "user_tz": -240
    },
    "id": "2LO7H5LsBS1b",
    "outputId": "d676dbea-d590-4a80-fece-311cd7457467"
   },
   "outputs": [
    {
     "name": "stdout",
     "output_type": "stream",
     "text": [
      "[[14  0  0]\n",
      " [ 0 16  0]\n",
      " [ 0  0  6]]\n"
     ]
    }
   ],
   "source": [
    "#confusion matrix for test data\n",
    "from sklearn.metrics import confusion_matrix\n",
    "cm = confusion_matrix(y_test, y_pred)\n",
    "print(cm)"
   ]
  },
  {
   "cell_type": "markdown",
   "metadata": {},
   "source": [
    "### Accuracy"
   ]
  },
  {
   "cell_type": "code",
   "execution_count": 17,
   "metadata": {},
   "outputs": [
    {
     "name": "stdout",
     "output_type": "stream",
     "text": [
      "Accuracy of logistic regression classifier on test set: 100.00%\n"
     ]
    }
   ],
   "source": [
    "from sklearn.metrics import accuracy_score\n",
    "print('Accuracy of logistic regression classifier on test set: {:.2f}%'.format(accuracy_score(y_test, y_pred)*100))"
   ]
  },
  {
   "cell_type": "markdown",
   "metadata": {
    "colab_type": "text",
    "id": "h6pZMBrUBXwb"
   },
   "source": [
    "### Visualising the Training set results"
   ]
  },
  {
   "cell_type": "code",
   "execution_count": 18,
   "metadata": {
    "colab": {
     "base_uri": "https://localhost:8080/",
     "height": 366
    },
    "colab_type": "code",
    "executionInfo": {
     "elapsed": 2338,
     "status": "ok",
     "timestamp": 1586437771897,
     "user": {
      "displayName": "Hadelin de Ponteves",
      "photoUrl": "https://lh3.googleusercontent.com/a-/AOh14GhEuXdT7eQweUmRPW8_laJuPggSK6hfvpl5a6WBaA=s64",
      "userId": "15047218817161520419"
     },
     "user_tz": -240
    },
    "id": "FK_LpLOeBdQ4",
    "outputId": "45143133-bba1-4c03-99b0-c7c1ccda6f87"
   },
   "outputs": [
    {
     "name": "stderr",
     "output_type": "stream",
     "text": [
      "'c' argument looks like a single numeric RGB or RGBA sequence, which should be avoided as value-mapping will have precedence in case its length matches with 'x' & 'y'.  Please use a 2-D array with a single row if you really want to specify the same RGB or RGBA value for all points.\n",
      "'c' argument looks like a single numeric RGB or RGBA sequence, which should be avoided as value-mapping will have precedence in case its length matches with 'x' & 'y'.  Please use a 2-D array with a single row if you really want to specify the same RGB or RGBA value for all points.\n",
      "'c' argument looks like a single numeric RGB or RGBA sequence, which should be avoided as value-mapping will have precedence in case its length matches with 'x' & 'y'.  Please use a 2-D array with a single row if you really want to specify the same RGB or RGBA value for all points.\n"
     ]
    },
    {
     "data": {
      "image/png": "[encoded data removed]",
      "text/plain": [
       "<Figure size 864x576 with 1 Axes>"
      ]
     },
     "metadata": {
      "needs_background": "light"
     },
     "output_type": "display_data"
    }
   ],
   "source": [
    "from matplotlib.colors import ListedColormap\n",
    "\n",
    "%matplotlib inline\n",
    "plt.rcParams['figure.figsize']=12,8\n",
    "\n",
    "X_set, y_set = X_train, y_train\n",
    "X1, X2 = np.meshgrid(np.arange(start = X_set[:, 0].min() - 1, stop = X_set[:, 0].max() + 1, step = 0.01),\n",
    "                     np.arange(start = X_set[:, 1].min() - 1, stop = X_set[:, 1].max() + 1, step = 0.01))\n",
    "plt.contourf(X1, X2, classifier.predict(np.array([X1.ravel(), X2.ravel()]).T).reshape(X1.shape),\n",
    "             alpha = 0.75, cmap = ListedColormap(('red', 'green', 'blue')))\n",
    "plt.xlim(X1.min(), X1.max())\n",
    "plt.ylim(X2.min(), X2.max())\n",
    "for i, j in enumerate(np.unique(y_set)):\n",
    "    plt.scatter(X_set[y_set == j, 0], X_set[y_set == j, 1],\n",
    "                c = ListedColormap(('red', 'green', 'blue'))(i), label = j)\n",
    "plt.title('Logistic Regression (Training set)')\n",
    "plt.xlabel('LD1')\n",
    "plt.ylabel('LD2')\n",
    "plt.legend()\n",
    "plt.show()"
   ]
  },
  {
   "cell_type": "markdown",
   "metadata": {
    "colab_type": "text",
    "id": "-Dbzx_KqBguX"
   },
   "source": [
    "### Visualising the Test set results"
   ]
  },
  {
   "cell_type": "code",
   "execution_count": 19,
   "metadata": {
    "colab": {
     "base_uri": "https://localhost:8080/",
     "height": 366
    },
    "colab_type": "code",
    "executionInfo": {
     "elapsed": 2910,
     "status": "ok",
     "timestamp": 1586437772478,
     "user": {
      "displayName": "Hadelin de Ponteves",
      "photoUrl": "https://lh3.googleusercontent.com/a-/AOh14GhEuXdT7eQweUmRPW8_laJuPggSK6hfvpl5a6WBaA=s64",
      "userId": "15047218817161520419"
     },
     "user_tz": -240
    },
    "id": "kk07XbUHBl0W",
    "outputId": "60056d4a-1984-411c-e529-c52dab2584e5"
   },
   "outputs": [
    {
     "name": "stderr",
     "output_type": "stream",
     "text": [
      "'c' argument looks like a single numeric RGB or RGBA sequence, which should be avoided as value-mapping will have precedence in case its length matches with 'x' & 'y'.  Please use a 2-D array with a single row if you really want to specify the same RGB or RGBA value for all points.\n",
      "'c' argument looks like a single numeric RGB or RGBA sequence, which should be avoided as value-mapping will have precedence in case its length matches with 'x' & 'y'.  Please use a 2-D array with a single row if you really want to specify the same RGB or RGBA value for all points.\n",
      "'c' argument looks like a single numeric RGB or RGBA sequence, which should be avoided as value-mapping will have precedence in case its length matches with 'x' & 'y'.  Please use a 2-D array with a single row if you really want to specify the same RGB or RGBA value for all points.\n"
     ]
    },
    {
     "data": {
      "image/png": "[encoded data removed]",
      "text/plain": [
       "<Figure size 864x576 with 1 Axes>"
      ]
     },
     "metadata": {
      "needs_background": "light"
     },
     "output_type": "display_data"
    }
   ],
   "source": [
    "from matplotlib.colors import ListedColormap\n",
    "\n",
    "%matplotlib inline\n",
    "plt.rcParams['figure.figsize']=12,8\n",
    "\n",
    "X_set, y_set = X_test, y_test\n",
    "X1, X2 = np.meshgrid(np.arange(start = X_set[:, 0].min() - 1, stop = X_set[:, 0].max() + 1, step = 0.01),\n",
    "                     np.arange(start = X_set[:, 1].min() - 1, stop = X_set[:, 1].max() + 1, step = 0.01))\n",
    "plt.contourf(X1, X2, classifier.predict(np.array([X1.ravel(), X2.ravel()]).T).reshape(X1.shape),\n",
    "             alpha = 0.75, cmap = ListedColormap(('red', 'green', 'blue')))\n",
    "plt.xlim(X1.min(), X1.max())\n",
    "plt.ylim(X2.min(), X2.max())\n",
    "for i, j in enumerate(np.unique(y_set)):\n",
    "    plt.scatter(X_set[y_set == j, 0], X_set[y_set == j, 1],\n",
    "                c = ListedColormap(('red', 'green', 'blue'))(i), label = j)\n",
    "plt.title('Logistic Regression (Test set)')\n",
    "plt.xlabel('LD')\n",
    "plt.ylabel('LD2')\n",
    "plt.legend()\n",
    "plt.show()"
   ]
  }
 ],
 "metadata": {
  "colab": {
   "authorship_tag": "ABX9TyPY+Ntw06tAv5AOB9Ipnvzq",
   "collapsed_sections": [],
   "name": "Principal Component Analysis",
   "provenance": [],
   "toc_visible": true
  },
  "kernelspec": {
   "display_name": "Python 3",
   "language": "python",
   "name": "python3"
  },
  "language_info": {
   "codemirror_mode": {
    "name": "ipython",
    "version": 3
   },
   "file_extension": ".py",
   "mimetype": "text/x-python",
   "name": "python",
   "nbconvert_exporter": "python",
   "pygments_lexer": "ipython3",
   "version": "3.7.4"
  }
 },
 "nbformat": 4,
 "nbformat_minor": 1
}
